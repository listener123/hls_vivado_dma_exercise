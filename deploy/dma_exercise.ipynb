{
 "cells": [
  {
   "cell_type": "code",
   "execution_count": null,
   "metadata": {
    "collapsed": true
   },
   "outputs": [],
   "source": [
    "import pynq\n",
    "import numpy as np"
   ]
  },
  {
   "cell_type": "code",
   "execution_count": null,
   "metadata": {},
   "outputs": [],
   "source": [
    "overlay = pynq.Overlay('dma_exercise.bit')\n",
    "xlnk = pynq.Xlnk()"
   ]
  },
  {
   "cell_type": "code",
   "execution_count": null,
   "metadata": {},
   "outputs": [],
   "source": [
    "top = overlay.top_function_0\n",
    "dma0 = overlay.axi_dma_0\n",
    "dma1 = overlay.axi_dma_1\n",
    "\n",
    "a_in = xlnk.cma_array(shape=(8), dtype=np.int32)\n",
    "b_in = xlnk.cma_array(shape=(8), dtype=np.int32)\n",
    "c_out = xlnk.cma_array(shape=(8), dtype=np.int32)\n",
    "for i in range(0,8):\n",
    "    a_in[i]=i\n",
    "    b_in[i]=i\n",
    "control=1\n"
   ]
  },
  {
   "cell_type": "code",
   "execution_count": null,
   "metadata": {},
   "outputs": [],
   "source": [
    "\n",
    "top.write(0x00, 0)\n",
    "top.write(0x10, control)\n",
    "top.write(0x0, 1)\n",
    "dma0.recvchannel.transfer(c_out)\n",
    "dma0.sendchannel.transfer(a_in)\n",
    "dma1.sendchannel.transfer(a_in)\n",
    "dma0.sendchannel.wait()\n",
    "dma0.recvchannel.wait()\n",
    "dma1.sendchannel.wait()"
   ]
  },
  {
   "cell_type": "code",
   "execution_count": null,
   "metadata": {},
   "outputs": [],
   "source": [
    "c_out"
   ]
  }
 ],
 "metadata": {
  "kernelspec": {
   "display_name": "Python 2",
   "language": "python",
   "name": "python2"
  },
  "language_info": {
   "codemirror_mode": {
    "name": "ipython",
    "version": 2
   },
   "file_extension": ".py",
   "mimetype": "text/x-python",
   "name": "python",
   "nbconvert_exporter": "python",
   "pygments_lexer": "ipython2",
   "version": "2.7.6"
  }
 },
 "nbformat": 4,
 "nbformat_minor": 0
}
